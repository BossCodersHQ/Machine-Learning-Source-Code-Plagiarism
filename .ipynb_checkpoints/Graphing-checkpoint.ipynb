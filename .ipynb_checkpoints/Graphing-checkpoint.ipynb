{
 "cells": [
  {
   "cell_type": "code",
   "execution_count": 1,
   "metadata": {},
   "outputs": [],
   "source": [
    "import pandas as pd\n",
    "import numpy as np\n",
    "import matplotlib.pyplot as plt\n",
    "import seaborn as sns\n",
    "from scipy import stats\n",
    "from scipy.interpolate import make_interp_spline, BSpline\n",
    "import random"
   ]
  },
  {
   "cell_type": "code",
   "execution_count": 2,
   "metadata": {},
   "outputs": [],
   "source": [
    "sns.set(color_codes=True)"
   ]
  },
  {
   "cell_type": "code",
   "execution_count": 3,
   "metadata": {},
   "outputs": [],
   "source": [
    "att_df = pd.read_csv(\"dataframes/attribute_df_soco_a1.csv\", header=0)\n",
    "final_df = pd.read_csv(\"dataframes/soco_train_part_0.csv\", header = 0)"
   ]
  },
  {
   "cell_type": "code",
   "execution_count": 4,
   "metadata": {},
   "outputs": [],
   "source": [
    "att_copy = att_df.copy()\n",
    "final_copy = final_df.copy()"
   ]
  },
  {
   "cell_type": "code",
   "execution_count": 5,
   "metadata": {},
   "outputs": [],
   "source": [
    "def plot_missin_val(df):\n",
    "    total = df.isnull().sum().sort_values(ascending=False)\n",
    "    percent = (df.isnull().sum()/df.isnull().count()).sort_values(ascending=False)\n",
    "    missing_data = pd.concat([total, percent], axis=1, keys=['Total', 'Percent'])\n",
    "    f, ax = plt.subplots(figsize=(15, 6))\n",
    "    plt.xticks(rotation='90')\n",
    "    sns.barplot(x=missing_data.index, y=missing_data['Percent'])\n",
    "    plt.xlabel('Features', fontsize=15)\n",
    "    plt.ylabel('Percent of missing values', fontsize=15)\n",
    "    plt.title('Percent missing data by feature', fontsize=15)\n",
    "    missing_data.head()"
   ]
  },
  {
   "cell_type": "code",
   "execution_count": 16,
   "metadata": {},
   "outputs": [
    {
     "data": {
      "text/plain": [
       "'Unnamed: 0'"
      ]
     },
     "execution_count": 16,
     "metadata": {},
     "output_type": "execute_result"
    }
   ],
   "source": [
    "att_copy.columns[0]"
   ]
  },
  {
   "cell_type": "code",
   "execution_count": 17,
   "metadata": {},
   "outputs": [],
   "source": [
    "att_copy.drop(\"Unnamed: 0\", axis=1, inplace=True)"
   ]
  },
  {
   "cell_type": "code",
   "execution_count": 33,
   "metadata": {},
   "outputs": [],
   "source": [
    "def plot_att_dist(df):\n",
    "    for col in df:\n",
    "        if col != \"filename\":\n",
    "            plt.figure(figsize=(8,8))\n",
    "            sns.distplot(att_copy[col], rug=True);\n",
    "            plt.savefig('../../dissertation/images/a1/att_dist/'+x+'.png')\n",
    "            plt.close()"
   ]
  },
  {
   "cell_type": "code",
   "execution_count": 34,
   "metadata": {},
   "outputs": [
    {
     "name": "stderr",
     "output_type": "stream",
     "text": [
      "C:\\Users\\nyaku\\Anaconda3\\lib\\site-packages\\scipy\\stats\\stats.py:1713: FutureWarning: Using a non-tuple sequence for multidimensional indexing is deprecated; use `arr[tuple(seq)]` instead of `arr[seq]`. In the future this will be interpreted as an array index, `arr[np.array(seq)]`, which will result either in an error or a different result.\n",
      "  return np.add.reduce(sorted[indexer] * weights, axis=axis) / sumval\n"
     ]
    }
   ],
   "source": [
    "plot_att_dist(att_copy)"
   ]
  },
  {
   "cell_type": "code",
   "execution_count": 31,
   "metadata": {},
   "outputs": [
    {
     "name": "stdout",
     "output_type": "stream",
     "text": [
      "total_nloc\n",
      "avg_nloc\n",
      "avg_ccn\n",
      "avg_token\n",
      "function_cnt\n",
      "ternary\n",
      "LLC_0\n",
      "LLC_10\n",
      "LLC_20\n",
      "LLC_30\n",
      "LLC_40\n",
      "rel_pub\n",
      "rel_priv\n",
      "rel_prot\n",
      "sin_comm\n",
      "sin_spell_err\n",
      "multi_comm\n",
      "doc_comm\n",
      "sin_space\n",
      "db_space\n",
      "tab\n",
      "total_var_count\n",
      "avg_var_length\n",
      "num_type1_var\n",
      "num_type2_var\n",
      "num_type3_var\n",
      "num_var_misspell\n",
      "total_num_tokens\n"
     ]
    }
   ],
   "source": [
    "col = \"total_nloc\"\n",
    "plt.figure(figsize=(8,8))\n",
    "sns.distplot(att_copy[col], rug=True);\n",
    "plt.savefig('../../dissertation/images/a1/att_dist/'+x+'.png')\n",
    "plt.close()"
   ]
  },
  {
   "cell_type": "code",
   "execution_count": null,
   "metadata": {
    "scrolled": true
   },
   "outputs": [],
   "source": [
    "col_df = final_copy.iloc[:, 2:-3]"
   ]
  },
  {
   "cell_type": "code",
   "execution_count": null,
   "metadata": {},
   "outputs": [],
   "source": [
    "def get_random_f(max,min):\n",
    "    temp = random.uniform(min,max+1)\n",
    "    return temp if random.random() < 0.5 else -temp"
   ]
  },
  {
   "cell_type": "code",
   "execution_count": null,
   "metadata": {
    "scrolled": true
   },
   "outputs": [],
   "source": [
    "dict = {}\n",
    "for col in col_df.columns.tolist():\n",
    "    for x in range(10):\n",
    "        \n",
    "        upper = (x+1) * 10\n",
    "        lower = x * 10\n",
    "        print(col,lower,upper)\n",
    "        \n",
    "        mean = final_copy[(final_copy['gst_sim'] < upper) & (final_copy['gst_sim'] >= lower)][col].mean()\n",
    "        while np.isnan(mean):\n",
    "            lower -= 10\n",
    "            if lower <= 0:\n",
    "                lower = 0\n",
    "                mean = 0\n",
    "                break\n",
    "            mean = final_copy[(final_copy['gst_sim'] < upper) & (final_copy['gst_sim'] >= lower)][col].mean()\n",
    "        mean = mean + get_random_f(mean,mean/2.0)\n",
    "        bool_table = (final_copy['gst_sim'] < upper) & (final_copy['gst_sim'] >= lower)\n",
    "        final_copy.loc[bool_table,col] = final_copy.loc[bool_table, col].fillna(mean)\n",
    "#         temp_df = final_copy.loc[(final_copy['gst_sim'] < upper) & (final_copy['gst_sim'] > lower)].copy()\n",
    "#         temp_df.update(temp_df.loc[:,col].fillna(mean))\n",
    "#         final_copy = temp_df\n",
    "        dict[col,lower,upper] = mean"
   ]
  },
  {
   "cell_type": "code",
   "execution_count": null,
   "metadata": {},
   "outputs": [],
   "source": [
    "for col in col_df.columns.tolist():\n",
    "    for x in range(10):\n",
    "        upper = (x+1) * 10\n",
    "        lower = x * 10\n",
    "        df = final_copy[(final_copy['gst_sim'] < upper) & (final_copy['gst_sim'] > lower)][col]\n",
    "        print(col, upper, lower, df.mean())"
   ]
  },
  {
   "cell_type": "code",
   "execution_count": null,
   "metadata": {},
   "outputs": [],
   "source": [
    "final_copy.iloc[:,2:-3]"
   ]
  },
  {
   "cell_type": "code",
   "execution_count": null,
   "metadata": {
    "scrolled": true
   },
   "outputs": [],
   "source": [
    "final_copy.isnull().any()"
   ]
  },
  {
   "cell_type": "code",
   "execution_count": null,
   "metadata": {
    "scrolled": true
   },
   "outputs": [],
   "source": [
    "final_copy.isnull().any()"
   ]
  },
  {
   "cell_type": "code",
   "execution_count": null,
   "metadata": {},
   "outputs": [],
   "source": [
    "testdf"
   ]
  },
  {
   "cell_type": "code",
   "execution_count": null,
   "metadata": {},
   "outputs": [],
   "source": [
    "testdf = final_copy[(np.abs(stats.zscore(final_copy.iloc[:,2:-3])) < 3).all(axis=1)].copy()"
   ]
  },
  {
   "cell_type": "code",
   "execution_count": null,
   "metadata": {},
   "outputs": [],
   "source": [
    "vals = att_df['avg_token'].values.tolist()\n",
    "minval = min(vals)\n",
    "maxval = max(vals)\n",
    "sns.distplot(vals)"
   ]
  },
  {
   "cell_type": "code",
   "execution_count": null,
   "metadata": {},
   "outputs": [],
   "source": [
    "def plot_scatter_score(df_col):\n",
    "    for x in df_col:\n",
    "        fig, ax = plt.subplots(figsize=(8,8))\n",
    "        sns.regplot(x=x, y=\"gst_sim\", data=testdf,marker=\"o\",\n",
    "                    scatter_kws={\"color\":\"darkred\",\"s\":5},fit_reg=False, logx=True)\n",
    "        plt.savefig('../../dissertation/images/jfiles log/'+x+'.png')\n",
    "        plt.close()"
   ]
  },
  {
   "cell_type": "code",
   "execution_count": null,
   "metadata": {},
   "outputs": [],
   "source": [
    "columns_to_plot = testdf.columns.tolist()[2:-3]"
   ]
  },
  {
   "cell_type": "code",
   "execution_count": null,
   "metadata": {
    "scrolled": true
   },
   "outputs": [],
   "source": [
    "plot_scatter_score(columns_to_plot)"
   ]
  },
  {
   "cell_type": "code",
   "execution_count": null,
   "metadata": {},
   "outputs": [],
   "source": [
    "fig, ax = plt.subplots(figsize=(16,10))\n",
    "sns.boxplot(data=att_copy['sin_space'], palette=\"Set2\")"
   ]
  },
  {
   "cell_type": "code",
   "execution_count": null,
   "metadata": {},
   "outputs": [],
   "source": [
    "att_df = att_df[att_df['avg_token'] < 400]"
   ]
  },
  {
   "cell_type": "code",
   "execution_count": null,
   "metadata": {},
   "outputs": [],
   "source": [
    "att_df.max()"
   ]
  },
  {
   "cell_type": "code",
   "execution_count": null,
   "metadata": {},
   "outputs": [],
   "source": [
    "att_copy.max()"
   ]
  },
  {
   "cell_type": "code",
   "execution_count": null,
   "metadata": {},
   "outputs": [],
   "source": []
  }
 ],
 "metadata": {
  "kernelspec": {
   "display_name": "Python 3",
   "language": "python",
   "name": "python3"
  },
  "language_info": {
   "codemirror_mode": {
    "name": "ipython",
    "version": 3
   },
   "file_extension": ".py",
   "mimetype": "text/x-python",
   "name": "python",
   "nbconvert_exporter": "python",
   "pygments_lexer": "ipython3",
   "version": "3.7.0"
  }
 },
 "nbformat": 4,
 "nbformat_minor": 2
}
